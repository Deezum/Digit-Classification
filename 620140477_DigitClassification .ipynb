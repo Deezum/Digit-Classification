{
  "cells": [
    {
      "cell_type": "markdown",
      "metadata": {
        "id": "YOUzHRHN3vAT"
      },
      "source": [
        "# Binary Digit Classifier\n",
        "\n",
        "We have been offered a job at ML Solutions Limited to create a neural network classifier that can classify images of written binary digits (1 or 0)."
      ]
    },
    {
      "cell_type": "code",
      "execution_count": 225,
      "metadata": {
        "id": "iSbYnuQlQXat"
      },
      "outputs": [],
      "source": [
        "import tensorflow as tf\n",
        "import numpy as np"
      ]
    },
    {
      "cell_type": "code",
      "execution_count": 226,
      "metadata": {
        "id": "5bqNYCG9tOn8"
      },
      "outputs": [],
      "source": [
        "from tensorflow.keras.datasets import mnist"
      ]
    },
    {
      "cell_type": "code",
      "execution_count": 227,
      "metadata": {
        "id": "PkL32QxRtex6"
      },
      "outputs": [],
      "source": [
        "(x_train, y_train), (x_test, y_test) = mnist.load_data()"
      ]
    },
    {
      "cell_type": "code",
      "execution_count": 228,
      "metadata": {
        "colab": {
          "base_uri": "https://localhost:8080/"
        },
        "id": "G2AJdfaZtj9r",
        "outputId": "d317ccde-b6d6-4d34-a446-08526b49f62c"
      },
      "outputs": [
        {
          "data": {
            "text/plain": [
              "((60000, 28, 28), (10000, 28, 28))"
            ]
          },
          "execution_count": 228,
          "metadata": {},
          "output_type": "execute_result"
        }
      ],
      "source": [
        "x_train.shape, x_test.shape"
      ]
    },
    {
      "cell_type": "markdown",
      "metadata": {
        "id": "SRwpCiLHtr7B"
      },
      "source": [
        "Now we want to take out the 1's and 0's from this dataset so that we can do classification on those. Here we are extracting the input data and their respective labels for those whose labeles have either 0 or 1."
      ]
    },
    {
      "cell_type": "code",
      "execution_count": 229,
      "metadata": {
        "id": "B8djEJFOtn5F"
      },
      "outputs": [],
      "source": [
        "x_train, y_train = x_train[(y_train==1) | (y_train==0)],y_train[(y_train==1) | (y_train==0)]"
      ]
    },
    {
      "cell_type": "code",
      "execution_count": 230,
      "metadata": {
        "colab": {
          "base_uri": "https://localhost:8080/"
        },
        "id": "U7aMLCLCuGyx",
        "outputId": "0fbff0e6-a80b-4265-95f4-aa67f026ead8"
      },
      "outputs": [
        {
          "data": {
            "text/plain": [
              "((12665, 28, 28), (12665,))"
            ]
          },
          "execution_count": 230,
          "metadata": {},
          "output_type": "execute_result"
        }
      ],
      "source": [
        "x_train.shape, y_train.shape"
      ]
    },
    {
      "cell_type": "markdown",
      "metadata": {
        "id": "Dq5GcxhRvIZt"
      },
      "source": [
        "We do the same on the test data"
      ]
    },
    {
      "cell_type": "code",
      "execution_count": 231,
      "metadata": {
        "id": "ZxITpob3u0il"
      },
      "outputs": [],
      "source": [
        "# FILL IN HERE\n",
        "\n",
        "# Do the same to the x_test and y_test\n",
        "x_test, y_test = x_test[(y_test==1) | (y_test==0)],y_test[(y_test==1) | (y_test==0)]"
      ]
    },
    {
      "cell_type": "code",
      "execution_count": 232,
      "metadata": {
        "colab": {
          "base_uri": "https://localhost:8080/"
        },
        "id": "aBW7ikV84qKz",
        "outputId": "36d2d5c3-9719-4919-e5fc-78e57167fee2"
      },
      "outputs": [
        {
          "data": {
            "text/plain": [
              "((2115, 28, 28), (2115,))"
            ]
          },
          "execution_count": 232,
          "metadata": {},
          "output_type": "execute_result"
        }
      ],
      "source": [
        "x_test.shape, y_test.shape"
      ]
    },
    {
      "cell_type": "markdown",
      "metadata": {
        "id": "b_4SxcsLva_K"
      },
      "source": [
        "Let us see what our data looks like. We will pick a random instance from the dataset and visualize it."
      ]
    },
    {
      "cell_type": "code",
      "execution_count": 233,
      "metadata": {
        "colab": {
          "base_uri": "https://localhost:8080/",
          "height": 282
        },
        "id": "OMkpiDcNvW0n",
        "outputId": "94c8c221-fc2c-4024-b1df-dba813d8c84a"
      },
      "outputs": [
        {
          "name": "stdout",
          "output_type": "stream",
          "text": [
            "Label:  1\n"
          ]
        },
        {
          "data": {
            "image/png": "[encoded data removed]",
            "text/plain": [
              "<Figure size 640x480 with 1 Axes>"
            ]
          },
          "metadata": {},
          "output_type": "display_data"
        }
      ],
      "source": [
        "import random\n",
        "import matplotlib.pyplot as plt\n",
        "picked_idx = random.randint(0, x_train.shape[0]-1)\n",
        "\n",
        "img_picked = x_train[picked_idx]\n",
        "label = y_train[picked_idx]\n",
        "\n",
        "plt.imshow(img_picked)\n",
        "print('Label: ', label)\n"
      ]
    },
    {
      "cell_type": "markdown",
      "metadata": {
        "id": "tDWW7n1Hwhe2"
      },
      "source": [
        "# Preprocessing\n",
        "\n",
        "Before we are ready to train our predict whether an image is a 1 or a 0, we need to do some preprocessing on the data."
      ]
    },
    {
      "cell_type": "code",
      "execution_count": 234,
      "metadata": {
        "id": "oikiBpenwhGD"
      },
      "outputs": [],
      "source": [
        "#FILL IN HERE\n",
        "\n",
        "# Neural networks play better with small numbers. Images tend to have pixel values between 0 and 255.\n",
        "# Rescale this to 0-1. Hint try dividing\n",
        "# Do this to x_train and x_test\n",
        "# Remember to store the output back into x_train and x_test\n",
        "x_train = x_train // 120\n",
        "x_test = x_test // 120"
      ]
    },
    {
      "cell_type": "code",
      "execution_count": 235,
      "metadata": {
        "id": "1VsqKZSmyERP"
      },
      "outputs": [],
      "source": [
        "#FILL IN HERE\n",
        "# Since you will be using a regular Dense neural network. The network expects your data to be flattened from 2D to 1D\n",
        "# Rehsape the data from (N, 28, 28) to (N, 784) N represents number of images.\n",
        "# Each image is 28x28, we want to chage that to one flat row with 784\n",
        "x_test = x_test.reshape(x_test.shape[0], 784)\n",
        "x_train = x_train.reshape(x_train.shape[0], 784)\n"
      ]
    },
    {
      "cell_type": "code",
      "execution_count": 236,
      "metadata": {
        "colab": {
          "base_uri": "https://localhost:8080/"
        },
        "id": "oa2FYvIs5NgD",
        "outputId": "02f6541d-7ac1-4216-8a58-625c3d63555e"
      },
      "outputs": [
        {
          "data": {
            "text/plain": [
              "((12665, 784), (2115, 784))"
            ]
          },
          "execution_count": 236,
          "metadata": {},
          "output_type": "execute_result"
        }
      ],
      "source": [
        "x_train.shape,x_test.shape"
      ]
    },
    {
      "cell_type": "markdown",
      "metadata": {
        "id": "utKUP2Sw4M_G"
      },
      "source": [
        "# Create Model"
      ]
    },
    {
      "cell_type": "markdown",
      "metadata": {
        "id": "P9JEuHOPwRBG"
      },
      "source": [
        "Create a neural network model using tensorflow with at least 1 hidden layer. The output layer must have 1 unit. Experiment with different number of layers and number of units in each layer. This is where your creativitiy as a machine learning engineer comes in to play."
      ]
    },
    {
      "cell_type": "code",
      "execution_count": 237,
      "metadata": {
        "id": "vUKwJdclvshK"
      },
      "outputs": [
        {
          "name": "stderr",
          "output_type": "stream",
          "text": [
            "c:\\Users\\beadl\\AppData\\Local\\Programs\\Python\\Python310\\lib\\site-packages\\keras\\src\\layers\\reshaping\\flatten.py:37: UserWarning: Do not pass an `input_shape`/`input_dim` argument to a layer. When using Sequential models, prefer using an `Input(shape)` object as the first layer in the model instead.\n",
            "  super().__init__(**kwargs)\n"
          ]
        }
      ],
      "source": [
        "# FILL IN HERE\n",
        "# Ensure the output layer uses sigmoid for activation\n",
        "# Finish the line below\n",
        "model = tf.keras.models.Sequential([\n",
        "                             tf.keras.layers.Flatten(input_shape=(784,)), \n",
        "                             tf.keras.layers.Dense(130, activation='relu'), \n",
        "                             tf.keras.layers.Dense(156, activation='relu'), \n",
        "                             tf.keras.layers.Dense(250, activation='relu'), \n",
        "                             tf.keras.layers.Dense(1, activation='sigmoid')\n",
        "                             ])"
      ]
    },
    {
      "cell_type": "markdown",
      "metadata": {
        "id": "gE3n1ppy0uVa"
      },
      "source": [
        "Compile the model"
      ]
    },
    {
      "cell_type": "code",
      "execution_count": 238,
      "metadata": {
        "id": "hpDTrhi40tW3"
      },
      "outputs": [],
      "source": [
        "# FILL IN HERE\n",
        "# Ensure you use the binary cross entropy loss function and sgd for your optmizer\n",
        "model.compile(optimizer='sgd', loss='binary_crossentropy', metrics=['accuracy'])"
      ]
    },
    {
      "cell_type": "markdown",
      "metadata": {
        "id": "4_dOXDNi0_NR"
      },
      "source": [
        "Now to train the model. Store the ouput of model.fit in a vairable called history as we are going to use this to plot the train accuracy and loss. Try different values for batch size and epochs. The aim is to get the highest test accuaracy possible."
      ]
    },
    {
      "cell_type": "code",
      "execution_count": 239,
      "metadata": {
        "colab": {
          "base_uri": "https://localhost:8080/"
        },
        "id": "hARFVH6S0-h7",
        "outputId": "bfc622eb-628c-4486-c12a-de58d21c45ed"
      },
      "outputs": [
        {
          "name": "stdout",
          "output_type": "stream",
          "text": [
            "Epoch 1/10\n",
            "\u001b[1m845/845\u001b[0m \u001b[32m━━━━━━━━━━━━━━━━━━━━\u001b[0m\u001b[37m\u001b[0m \u001b[1m5s\u001b[0m 3ms/step - accuracy: 0.9845 - loss: 0.1376\n",
            "Epoch 2/10\n",
            "\u001b[1m845/845\u001b[0m \u001b[32m━━━━━━━━━━━━━━━━━━━━\u001b[0m\u001b[37m\u001b[0m \u001b[1m2s\u001b[0m 2ms/step - accuracy: 0.9979 - loss: 0.0080\n",
            "Epoch 3/10\n",
            "\u001b[1m845/845\u001b[0m \u001b[32m━━━━━━━━━━━━━━━━━━━━\u001b[0m\u001b[37m\u001b[0m \u001b[1m4s\u001b[0m 5ms/step - accuracy: 0.9986 - loss: 0.0056\n",
            "Epoch 4/10\n",
            "\u001b[1m845/845\u001b[0m \u001b[32m━━━━━━━━━━━━━━━━━━━━\u001b[0m\u001b[37m\u001b[0m \u001b[1m5s\u001b[0m 5ms/step - accuracy: 0.9989 - loss: 0.0046\n",
            "Epoch 5/10\n",
            "\u001b[1m845/845\u001b[0m \u001b[32m━━━━━━━━━━━━━━━━━━━━\u001b[0m\u001b[37m\u001b[0m \u001b[1m4s\u001b[0m 4ms/step - accuracy: 0.9983 - loss: 0.0057\n",
            "Epoch 6/10\n",
            "\u001b[1m845/845\u001b[0m \u001b[32m━━━━━━━━━━━━━━━━━━━━\u001b[0m\u001b[37m\u001b[0m \u001b[1m3s\u001b[0m 3ms/step - accuracy: 0.9991 - loss: 0.0035\n",
            "Epoch 7/10\n",
            "\u001b[1m845/845\u001b[0m \u001b[32m━━━━━━━━━━━━━━━━━━━━\u001b[0m\u001b[37m\u001b[0m \u001b[1m3s\u001b[0m 4ms/step - accuracy: 0.9998 - loss: 0.0017\n",
            "Epoch 8/10\n",
            "\u001b[1m845/845\u001b[0m \u001b[32m━━━━━━━━━━━━━━━━━━━━\u001b[0m\u001b[37m\u001b[0m \u001b[1m4s\u001b[0m 4ms/step - accuracy: 0.9997 - loss: 0.0017\n",
            "Epoch 9/10\n",
            "\u001b[1m845/845\u001b[0m \u001b[32m━━━━━━━━━━━━━━━━━━━━\u001b[0m\u001b[37m\u001b[0m \u001b[1m3s\u001b[0m 4ms/step - accuracy: 0.9993 - loss: 0.0029\n",
            "Epoch 10/10\n",
            "\u001b[1m845/845\u001b[0m \u001b[32m━━━━━━━━━━━━━━━━━━━━\u001b[0m\u001b[37m\u001b[0m \u001b[1m2s\u001b[0m 2ms/step - accuracy: 0.9996 - loss: 0.0017\n"
          ]
        }
      ],
      "source": [
        "# FILL IN HERE\n",
        "# Uncomment and finish the line below\n",
        "history =  model.fit(x_train, y_train, epochs=10, batch_size=15)"
      ]
    },
    {
      "cell_type": "markdown",
      "metadata": {
        "id": "n0yTm1s-4QgS"
      },
      "source": [
        "# Evalualtion"
      ]
    },
    {
      "cell_type": "markdown",
      "metadata": {
        "id": "WsSZglfz2G6y"
      },
      "source": [
        "Let's look at the plot of loss and accuracy. You should see accuracy going up and loss going down."
      ]
    },
    {
      "cell_type": "code",
      "execution_count": 240,
      "metadata": {
        "colab": {
          "base_uri": "https://localhost:8080/",
          "height": 282
        },
        "id": "3hlS2dIZ2FU6",
        "outputId": "7ee207d4-8f48-4224-fac7-cda1cff892e2"
      },
      "outputs": [
        {
          "data": {
            "text/plain": [
              "[<matplotlib.lines.Line2D at 0x1edb0690130>]"
            ]
          },
          "execution_count": 240,
          "metadata": {},
          "output_type": "execute_result"
        },
        {
          "data": {
            "image/png": "[encoded data removed]",
            "text/plain": [
              "<Figure size 640x480 with 1 Axes>"
            ]
          },
          "metadata": {},
          "output_type": "display_data"
        }
      ],
      "source": [
        "plt.plot(history.history['accuracy'])\n",
        "plt.plot(history.history['loss'])"
      ]
    },
    {
      "cell_type": "markdown",
      "metadata": {
        "id": "sj1-MpYE26Pd"
      },
      "source": [
        "Let us evaluate our model. Remember in machine learning what we are most interested in is the accuracy on the test dataset as this data represents data that the model has not seen during training so it should test the model's ability to generalize to new data."
      ]
    },
    {
      "cell_type": "code",
      "execution_count": 241,
      "metadata": {
        "colab": {
          "base_uri": "https://localhost:8080/"
        },
        "id": "zhpjCErJ25YZ",
        "outputId": "183e2969-a69b-47d4-f512-84da9e48b92c"
      },
      "outputs": [
        {
          "name": "stdout",
          "output_type": "stream",
          "text": [
            "\u001b[1m67/67\u001b[0m \u001b[32m━━━━━━━━━━━━━━━━━━━━\u001b[0m\u001b[37m\u001b[0m \u001b[1m0s\u001b[0m 2ms/step - accuracy: 1.0000 - loss: 0.0011     \n",
            "Accuracy 99.95%\n"
          ]
        }
      ],
      "source": [
        "# Fill in here\n",
        "# Call the evaluate function on x_test and y_test, store output in variable called out\n",
        "# Finish line below\n",
        "out = model.evaluate(x_test, y_test)\n",
        "print('Accuracy {:.2f}%'.format(out[1]*100))"
      ]
    },
    {
      "cell_type": "code",
      "execution_count": 242,
      "metadata": {
        "colab": {
          "base_uri": "https://localhost:8080/",
          "height": 316
        },
        "id": "SWwww_T_60Iu",
        "outputId": "6a9289a5-b76f-44d1-afac-25828797ea01"
      },
      "outputs": [
        {
          "name": "stdout",
          "output_type": "stream",
          "text": [
            "(784,)\n",
            "\u001b[1m1/1\u001b[0m \u001b[32m━━━━━━━━━━━━━━━━━━━━\u001b[0m\u001b[37m\u001b[0m \u001b[1m0s\u001b[0m 91ms/step\n",
            "Label:  0\n",
            "Predicited Label 0\n"
          ]
        },
        {
          "data": {
            "image/png": "[encoded data removed]",
            "text/plain": [
              "<Figure size 640x480 with 1 Axes>"
            ]
          },
          "metadata": {},
          "output_type": "display_data"
        }
      ],
      "source": [
        "picked_idx = random.randint(0, x_test.shape[0]-1)\n",
        "\n",
        "img_picked = x_test[picked_idx]\n",
        "label = y_test[picked_idx]\n",
        "print(img_picked.shape)\n",
        "pred_label = model.predict(img_picked.reshape(1, -1))\n",
        "\n",
        "plt.imshow(img_picked.reshape(28, 28))\n",
        "print('Label: ', label)\n",
        "print('Predicited Label', 1 if pred_label > 0.5 else 0)"
      ]
    },
    {
      "cell_type": "markdown",
      "metadata": {
        "id": "D-YnwLcXVg_2"
      },
      "source": [
        "# Logistic Regression Using SGD"
      ]
    },
    {
      "cell_type": "markdown",
      "metadata": {
        "id": "glKbICXKmJmG"
      },
      "source": [
        "$$\\sigma (x) = \\frac {1}{1 + e^{-x}}$$\n",
        "$$y_{pred} = \\sigma (W \\cdot X^{T} + b)$$"
      ]
    },
    {
      "cell_type": "code",
      "execution_count": 243,
      "metadata": {
        "id": "WOzJsL2baTBV"
      },
      "outputs": [],
      "source": [
        "#FILL IN\n",
        "# N - batch size\n",
        "# W - weight of shape (1, num_features)\n",
        "# b - bias of shape (1,)\n",
        "# X - matrix of shape (N, num_features)\n",
        "# returns output of  ypred of shape (N,) **make sure to reshape**\n",
        "# note you have to find the dot product of W and the transpose of X (look up how to do this using numpy)\n",
        "def model_predict(W, b, X):\n",
        "\n",
        "  def activation_fn(y):\n",
        "    # return  sigmoid function applied to y\n",
        "    # note there is a function called np.exp\n",
        "   return 1 / (1 + np.exp(-y))\n",
        "  \n",
        "  return activation_fn(np.dot(W, (np.transpose(X))) + b)"
      ]
    },
    {
      "cell_type": "markdown",
      "metadata": {
        "id": "PvNdNV9wixbt"
      },
      "source": [
        "$$L = -\\frac{1}{N}\\sum y_{target}log(y_{pred}) + (1-y_{target})log(1-y_{pred})$$"
      ]
    },
    {
      "cell_type": "code",
      "execution_count": 244,
      "metadata": {
        "id": "IQMuOnS3iCsr"
      },
      "outputs": [],
      "source": [
        "# FILL IN\n",
        "# y_target - vector of targets of shape (N,)\n",
        "# y_pred - vector of predictions of shape (N, )\n",
        "# returns output of binary cross entropy loss function above\n",
        "# **note you can find the mean using np.mean**\n",
        "def loss_fn(y_target, y_pred):\n",
        "    l = -np.mean(y_target * np.log(y_pred) + (1 - y_target) * np.log(1 - y_pred))\n",
        "    return l\n"
      ]
    },
    {
      "cell_type": "markdown",
      "metadata": {
        "id": "d8A7AY-XpBUP"
      },
      "source": [
        "$$\\frac{\\partial{L}}{\\partial{W}} = \\frac{1}{N}(y_{pred}-y_{target})\\cdot X$$\n",
        "$$\\frac{\\partial{L}}{\\partial{b}} = \\frac{1}{N}\\sum (y_{pred}-y_{target})$$"
      ]
    },
    {
      "cell_type": "code",
      "execution_count": 245,
      "metadata": {
        "id": "Tzj05MnAnvmD"
      },
      "outputs": [],
      "source": [
        "# FILL IN\n",
        "# N - batch size\n",
        "# y_pred - vector of predicitions of shape (N,)\n",
        "# y_target - vector of targets of shape (N,)\n",
        "# X - matrix of shape (N, num_features)\n",
        "# returns dl_dw, dl_db - parital derivative of loss with respect to the weights, partial derivative of loss with respect\n",
        "# to bias note you have to find the dot product\n",
        "def gradient_calc(y_pred, y_target, X):\n",
        "  N = len(X)\n",
        "  dl_dw = (y_pred - y_target).dot(X) / y_pred.shape[0]\n",
        "  dl_db = (y_pred - y_target).mean()\n",
        "  return dl_dw, dl_db"
      ]
    },
    {
      "cell_type": "markdown",
      "metadata": {
        "id": "7LkRo2VVRhSr"
      },
      "source": [
        "# Gradient descent\n",
        "$$ W = W - \\alpha \\frac{\\partial L}{\\partial W}$$\n",
        "$$ b = b - \\alpha \\frac{\\partial L}{\\partial b}$$"
      ]
    },
    {
      "cell_type": "code",
      "execution_count": 246,
      "metadata": {
        "id": "VTQPDi5n4h1E"
      },
      "outputs": [],
      "source": [
        "# FILL IN\n",
        "# W - weight of shape (1, num_features)\n",
        "# b - bias of shape(1,)\n",
        "# alpha - learning rate\n",
        "# dl_dw - partial derivative of loss with respect to weight of shape (1, num_features)\n",
        "# dl_db - partial derivative of loss with respect to bias (1,)\n",
        "# returns W, b - updated weight and bias\n",
        "def gradient_step(W, b, dl_dw, dl_db, alpha=0.01):\n",
        "  W = W - (alpha * dl_dw)\n",
        "  b = b - (alpha * dl_db)\n",
        "  return W, b"
      ]
    },
    {
      "cell_type": "markdown",
      "metadata": {
        "id": "GhDHd4P78nei"
      },
      "source": [
        "Initialize weight and bias"
      ]
    },
    {
      "cell_type": "code",
      "execution_count": 247,
      "metadata": {
        "id": "kBGBap548EDj"
      },
      "outputs": [],
      "source": [
        "W = np.random.randn(1, 784)\n",
        "b = np.zeros(1,)"
      ]
    },
    {
      "cell_type": "code",
      "execution_count": 248,
      "metadata": {
        "id": "HqCzOk52Vw3y"
      },
      "outputs": [],
      "source": [
        "num_epochs = 20 #iterations through the entire dataset\n",
        "batch_size = 16\n",
        "alpha = 0.001 # learning rate"
      ]
    },
    {
      "cell_type": "code",
      "execution_count": 249,
      "metadata": {
        "colab": {
          "base_uri": "https://localhost:8080/"
        },
        "id": "4D1qcUR-e5Ro",
        "outputId": "4bf108db-79ff-41b2-8ebc-3c98a10f0b36"
      },
      "outputs": [
        {
          "name": "stderr",
          "output_type": "stream",
          "text": [
            "C:\\Users\\beadl\\AppData\\Local\\Temp\\ipykernel_36624\\2322138607.py:7: RuntimeWarning: divide by zero encountered in log\n",
            "  l = -np.mean(y_target * np.log(y_pred) + (1 - y_target) * np.log(1 - y_pred))\n",
            "C:\\Users\\beadl\\AppData\\Local\\Temp\\ipykernel_36624\\2322138607.py:7: RuntimeWarning: invalid value encountered in multiply\n",
            "  l = -np.mean(y_target * np.log(y_pred) + (1 - y_target) * np.log(1 - y_pred))\n"
          ]
        },
        {
          "name": "stdout",
          "output_type": "stream",
          "text": [
            "Epoch:  0  Loss:  0.27588004153424284\n",
            "Epoch:  1  Loss:  0.08159934406961734\n",
            "Epoch:  2  Loss:  0.02218820115838619\n",
            "Epoch:  3  Loss:  0.007398380681546943\n",
            "Epoch:  4  Loss:  0.003595571460493184\n",
            "Epoch:  5  Loss:  0.002397509605586438\n",
            "Epoch:  6  Loss:  0.0019676717340978223\n",
            "Epoch:  7  Loss:  0.0018027660448988617\n",
            "Epoch:  8  Loss:  0.0017385708777396974\n",
            "Epoch:  9  Loss:  0.0017099728340297425\n",
            "Epoch:  10  Loss:  0.0016842126705205727\n",
            "Epoch:  11  Loss:  0.0016495859534268386\n",
            "Epoch:  12  Loss:  0.0016088148947836095\n",
            "Epoch:  13  Loss:  0.0015668869704498828\n",
            "Epoch:  14  Loss:  0.0015249642069127308\n",
            "Epoch:  15  Loss:  0.0014809865654842114\n",
            "Epoch:  16  Loss:  0.0014319533021476137\n",
            "Epoch:  17  Loss:  0.0013762471009292317\n",
            "Epoch:  18  Loss:  0.0013145162720217148\n",
            "Epoch:  19  Loss:  0.0012488421201114004\n"
          ]
        }
      ],
      "source": [
        "losses = []\n",
        "for i in range(num_epochs):\n",
        "  num_batches = len(x_train)//batch_size # split into mini batches\n",
        "  for j in range(num_batches):\n",
        "    X = x_train[j*batch_size:(j+1)*batch_size]\n",
        "    y_target = y_train[j*batch_size:(j+1)*batch_size]\n",
        "    y_pred = model_predict(W, b, X)\n",
        "    loss = loss_fn(y_target, y_pred)\n",
        "    dl_dw, dl_db = gradient_calc(y_pred, y_target, X)\n",
        "    W, b = gradient_step(W, b, dl_dw, dl_db, alpha)\n",
        "  losses.append(loss)\n",
        "  print('Epoch: ', i, ' Loss: ', loss)"
      ]
    },
    {
      "cell_type": "markdown",
      "metadata": {
        "id": "DyIPJjCJ86i0"
      },
      "source": [
        "Let us now plot the loss"
      ]
    },
    {
      "cell_type": "code",
      "execution_count": 250,
      "metadata": {
        "colab": {
          "base_uri": "https://localhost:8080/",
          "height": 282
        },
        "id": "UQpWfppdWQrf",
        "outputId": "e72b8645-471f-40fe-8483-e97eec3cb9f2"
      },
      "outputs": [
        {
          "data": {
            "text/plain": [
              "[<matplotlib.lines.Line2D at 0x1edb079a5f0>]"
            ]
          },
          "execution_count": 250,
          "metadata": {},
          "output_type": "execute_result"
        },
        {
          "data": {
            "image/png": "[encoded data removed]",
            "text/plain": [
              "<Figure size 640x480 with 1 Axes>"
            ]
          },
          "metadata": {},
          "output_type": "display_data"
        }
      ],
      "source": [
        "plt.plot(losses)"
      ]
    },
    {
      "cell_type": "markdown",
      "metadata": {
        "id": "tnl2qbaqaqw3"
      },
      "source": [
        "# Evaluation/Test"
      ]
    },
    {
      "cell_type": "code",
      "execution_count": 251,
      "metadata": {
        "colab": {
          "base_uri": "https://localhost:8080/",
          "height": 316
        },
        "id": "zPXQTHm0aaHD",
        "outputId": "810cfb81-1b5c-4876-f991-fe9133515aa2"
      },
      "outputs": [
        {
          "name": "stdout",
          "output_type": "stream",
          "text": [
            "(784,)\n",
            "Label:  1\n",
            "Predicited Label 1\n"
          ]
        },
        {
          "data": {
            "image/png": "[encoded data removed]",
            "text/plain": [
              "<Figure size 640x480 with 1 Axes>"
            ]
          },
          "metadata": {},
          "output_type": "display_data"
        }
      ],
      "source": [
        "picked_idx = random.randint(0, x_test.shape[0]-1)\n",
        "\n",
        "img_picked = x_test[picked_idx]\n",
        "label = y_test[picked_idx]\n",
        "print(img_picked.shape)\n",
        "pred_label = model_predict(W, b, img_picked.reshape(1, -1))\n",
        "plt.imshow(img_picked.reshape(28, 28))\n",
        "print('Label: ', label)\n",
        "print('Predicited Label', 1 if pred_label > 0.5 else 0)"
      ]
    },
    {
      "cell_type": "markdown",
      "metadata": {
        "id": "Zumoi8I29FGz"
      },
      "source": [
        "Let us see how well your model did."
      ]
    },
    {
      "cell_type": "code",
      "execution_count": 252,
      "metadata": {
        "colab": {
          "base_uri": "https://localhost:8080/"
        },
        "id": "SI4L0XEWa-Ez",
        "outputId": "ee9aa364-cfce-45fe-bbf9-fd3c7df18b41"
      },
      "outputs": [
        {
          "name": "stdout",
          "output_type": "stream",
          "text": [
            "Accuracy: 99.57%\n"
          ]
        }
      ],
      "source": [
        "eval_pred = model_predict(W, b, x_test)\n",
        "eval_pred = (eval_pred > 0.5).astype(float) # anything with more than 50% probability is seen as a 1\n",
        "accuracy = np.mean((eval_pred == y_test).astype(float))\n",
        "print('Accuracy: {:.2f}%'.format(float(accuracy*100)))"
      ]
    },
    {
      "cell_type": "markdown",
      "metadata": {
        "id": "dn5mhYrSbLhx"
      },
      "source": [
        "# Convolutional Neural Network\n",
        "\n",
        "See if you can create a convolutional neural network to get even better accuracy."
      ]
    },
    {
      "cell_type": "code",
      "execution_count": 253,
      "metadata": {
        "id": "PTU1rRQVbOoU"
      },
      "outputs": [
        {
          "name": "stderr",
          "output_type": "stream",
          "text": [
            "c:\\Users\\beadl\\AppData\\Local\\Programs\\Python\\Python310\\lib\\site-packages\\keras\\src\\layers\\convolutional\\base_conv.py:107: UserWarning: Do not pass an `input_shape`/`input_dim` argument to a layer. When using Sequential models, prefer using an `Input(shape)` object as the first layer in the model instead.\n",
            "  super().__init__(activity_regularizer=activity_regularizer, **kwargs)\n"
          ]
        }
      ],
      "source": [
        "cnnmodel = tf.keras.models.Sequential([\n",
        "        tf.keras.layers.Conv2D(32, (3, 3), activation='relu', kernel_initializer='he_uniform', input_shape=(28, 28, 1)),\n",
        "        tf.keras.layers.MaxPooling2D(2, 2),\n",
        "        tf.keras.layers.MaxPooling2D(2, 2),\n",
        "        tf.keras.layers.Flatten(),\n",
        "        tf.keras.layers.Dense(100, activation='relu', kernel_initializer='he_uniform'),\n",
        "        tf.keras.layers.Dense(10, activation='sigmoid')\n",
        "    ])"
      ]
    },
    {
      "cell_type": "code",
      "execution_count": 254,
      "metadata": {},
      "outputs": [
        {
          "data": {
            "text/plain": [
              "((12665, 28, 28, 1), (2115, 28, 28, 1))"
            ]
          },
          "execution_count": 254,
          "metadata": {},
          "output_type": "execute_result"
        }
      ],
      "source": [
        "x_train1 = x_train.reshape(x_train.shape[0], 28, 28, 1)\n",
        "x_test1 = x_test.reshape(x_test.shape[0], 28, 28, 1)\n",
        "x_train1.shape, x_test1.shape"
      ]
    },
    {
      "cell_type": "code",
      "execution_count": 255,
      "metadata": {},
      "outputs": [],
      "source": [
        "cnnmodel.compile(optimizer='adam', loss='sparse_categorical_crossentropy', metrics=['accuracy'])"
      ]
    },
    {
      "cell_type": "code",
      "execution_count": 256,
      "metadata": {},
      "outputs": [
        {
          "name": "stdout",
          "output_type": "stream",
          "text": [
            "Epoch 1/10\n",
            "\u001b[1m396/396\u001b[0m \u001b[32m━━━━━━━━━━━━━━━━━━━━\u001b[0m\u001b[37m\u001b[0m \u001b[1m48s\u001b[0m 5ms/step - accuracy: 0.9719 - loss: 0.1079 - val_accuracy: 0.9995 - val_loss: 5.4466e-04\n",
            "Epoch 2/10\n",
            "\u001b[1m396/396\u001b[0m \u001b[32m━━━━━━━━━━━━━━━━━━━━\u001b[0m\u001b[37m\u001b[0m \u001b[1m2s\u001b[0m 6ms/step - accuracy: 0.9986 - loss: 0.0043 - val_accuracy: 0.9995 - val_loss: 4.4909e-04\n",
            "Epoch 3/10\n",
            "\u001b[1m396/396\u001b[0m \u001b[32m━━━━━━━━━━━━━━━━━━━━\u001b[0m\u001b[37m\u001b[0m \u001b[1m2s\u001b[0m 5ms/step - accuracy: 0.9987 - loss: 0.0032 - val_accuracy: 0.9991 - val_loss: 0.0076\n",
            "Epoch 4/10\n",
            "\u001b[1m396/396\u001b[0m \u001b[32m━━━━━━━━━━━━━━━━━━━━\u001b[0m\u001b[37m\u001b[0m \u001b[1m2s\u001b[0m 6ms/step - accuracy: 0.9984 - loss: 0.0054 - val_accuracy: 1.0000 - val_loss: 2.4721e-04\n",
            "Epoch 5/10\n",
            "\u001b[1m396/396\u001b[0m \u001b[32m━━━━━━━━━━━━━━━━━━━━\u001b[0m\u001b[37m\u001b[0m \u001b[1m2s\u001b[0m 5ms/step - accuracy: 1.0000 - loss: 3.6509e-04 - val_accuracy: 0.9991 - val_loss: 0.0023\n",
            "Epoch 6/10\n",
            "\u001b[1m396/396\u001b[0m \u001b[32m━━━━━━━━━━━━━━━━━━━━\u001b[0m\u001b[37m\u001b[0m \u001b[1m2s\u001b[0m 5ms/step - accuracy: 1.0000 - loss: 2.0388e-04 - val_accuracy: 0.9995 - val_loss: 5.1585e-04\n",
            "Epoch 7/10\n",
            "\u001b[1m396/396\u001b[0m \u001b[32m━━━━━━━━━━━━━━━━━━━━\u001b[0m\u001b[37m\u001b[0m \u001b[1m2s\u001b[0m 6ms/step - accuracy: 0.9985 - loss: 0.0038 - val_accuracy: 0.9991 - val_loss: 0.0028\n",
            "Epoch 8/10\n",
            "\u001b[1m396/396\u001b[0m \u001b[32m━━━━━━━━━━━━━━━━━━━━\u001b[0m\u001b[37m\u001b[0m \u001b[1m2s\u001b[0m 6ms/step - accuracy: 1.0000 - loss: 4.0402e-04 - val_accuracy: 1.0000 - val_loss: 3.2684e-04\n",
            "Epoch 9/10\n",
            "\u001b[1m396/396\u001b[0m \u001b[32m━━━━━━━━━━━━━━━━━━━━\u001b[0m\u001b[37m\u001b[0m \u001b[1m2s\u001b[0m 5ms/step - accuracy: 1.0000 - loss: 9.2073e-05 - val_accuracy: 1.0000 - val_loss: 6.2820e-05\n",
            "Epoch 10/10\n",
            "\u001b[1m396/396\u001b[0m \u001b[32m━━━━━━━━━━━━━━━━━━━━\u001b[0m\u001b[37m\u001b[0m \u001b[1m2s\u001b[0m 5ms/step - accuracy: 1.0000 - loss: 1.7823e-05 - val_accuracy: 1.0000 - val_loss: 6.2401e-05\n"
          ]
        }
      ],
      "source": [
        "history = cnnmodel.fit(x_train1, y_train, epochs=10, validation_data=(x_test1, y_test))"
      ]
    },
    {
      "cell_type": "code",
      "execution_count": 257,
      "metadata": {},
      "outputs": [
        {
          "name": "stdout",
          "output_type": "stream",
          "text": [
            "\u001b[1m67/67\u001b[0m \u001b[32m━━━━━━━━━━━━━━━━━━━━\u001b[0m\u001b[37m\u001b[0m \u001b[1m0s\u001b[0m 2ms/step - accuracy: 1.0000 - loss: 4.1036e-05\n",
            "Accuracy:  100.0\n"
          ]
        }
      ],
      "source": [
        "accuracy = cnnmodel.evaluate(x_test1, y_test)\n",
        "print('Accuracy:', (accuracy[1]*100))"
      ]
    },
    {
      "cell_type": "code",
      "execution_count": 258,
      "metadata": {},
      "outputs": [
        {
          "data": {
            "image/png": "[encoded data removed]",
            "text/plain": [
              "<Figure size 640x480 with 1 Axes>"
            ]
          },
          "metadata": {},
          "output_type": "display_data"
        }
      ],
      "source": [
        "plt.plot(history.history['accuracy'])\n",
        "plt.plot(history.history['val_accuracy'])\n",
        "plt.title('Model Accuracy')\n",
        "plt.ylabel('Accuracy')\n",
        "plt.xlabel('Epochs')\n",
        "plt.legend(['Train', 'Test'], loc='lower right')\n",
        "plt.show()"
      ]
    },
    {
      "cell_type": "code",
      "execution_count": 259,
      "metadata": {},
      "outputs": [
        {
          "data": {
            "image/png": "[encoded data removed]",
            "text/plain": [
              "<Figure size 640x480 with 1 Axes>"
            ]
          },
          "metadata": {},
          "output_type": "display_data"
        }
      ],
      "source": [
        "plt.plot(history.history['loss'])\n",
        "plt.plot(history.history['val_loss'])\n",
        "plt.title('Model Loss')\n",
        "plt.ylabel('Loss')\n",
        "plt.xlabel('Epoch')\n",
        "plt.legend(['Train', 'Test'], loc='upper right')\n",
        "plt.show()"
      ]
    },
    {
      "cell_type": "code",
      "execution_count": 260,
      "metadata": {},
      "outputs": [
        {
          "name": "stdout",
          "output_type": "stream",
          "text": [
            "\u001b[1m67/67\u001b[0m \u001b[32m━━━━━━━━━━━━━━━━━━━━\u001b[0m\u001b[37m\u001b[0m \u001b[1m0s\u001b[0m 3ms/step - accuracy: 1.0000 - loss: 4.1036e-05\n"
          ]
        },
        {
          "data": {
            "text/plain": [
              "[6.240110087674111e-05, 1.0]"
            ]
          },
          "execution_count": 260,
          "metadata": {},
          "output_type": "execute_result"
        }
      ],
      "source": [
        "cnnmodel.evaluate(x_test1, y_test)"
      ]
    }
  ],
  "metadata": {
    "colab": {
      "provenance": [],
      "toc_visible": true
    },
    "kernelspec": {
      "display_name": "Python 3",
      "name": "python3"
    },
    "language_info": {
      "codemirror_mode": {
        "name": "ipython",
        "version": 3
      },
      "file_extension": ".py",
      "mimetype": "text/x-python",
      "name": "python",
      "nbconvert_exporter": "python",
      "pygments_lexer": "ipython3",
      "version": "3.10.10"
    }
  },
  "nbformat": 4,
  "nbformat_minor": 0
}
